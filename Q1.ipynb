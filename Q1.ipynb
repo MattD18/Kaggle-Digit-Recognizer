{
 "cells": [
  {
   "cell_type": "code",
   "execution_count": 1,
   "metadata": {
    "collapsed": true
   },
   "outputs": [],
   "source": [
    "import pandas as pd\n",
    "import numpy as np\n",
    "import matplotlib.pyplot as plt\n",
    "import scipy.misc as smp\n",
    "\n",
    "%matplotlib inline"
   ]
  },
  {
   "cell_type": "markdown",
   "metadata": {},
   "source": [
    "(a) Join the Digit Recognizer competition on Kaggle. Download the training and test data. The\n",
    "competition page describes how these files are formatted."
   ]
  },
  {
   "cell_type": "code",
   "execution_count": 2,
   "metadata": {},
   "outputs": [
    {
     "data": {
      "text/html": [
       "<div>\n",
       "<style>\n",
       "    .dataframe thead tr:only-child th {\n",
       "        text-align: right;\n",
       "    }\n",
       "\n",
       "    .dataframe thead th {\n",
       "        text-align: left;\n",
       "    }\n",
       "\n",
       "    .dataframe tbody tr th {\n",
       "        vertical-align: top;\n",
       "    }\n",
       "</style>\n",
       "<table border=\"1\" class=\"dataframe\">\n",
       "  <thead>\n",
       "    <tr style=\"text-align: right;\">\n",
       "      <th></th>\n",
       "      <th>label</th>\n",
       "      <th>pixel0</th>\n",
       "      <th>pixel1</th>\n",
       "      <th>pixel2</th>\n",
       "      <th>pixel3</th>\n",
       "      <th>pixel4</th>\n",
       "      <th>pixel5</th>\n",
       "      <th>pixel6</th>\n",
       "      <th>pixel7</th>\n",
       "      <th>pixel8</th>\n",
       "      <th>...</th>\n",
       "      <th>pixel774</th>\n",
       "      <th>pixel775</th>\n",
       "      <th>pixel776</th>\n",
       "      <th>pixel777</th>\n",
       "      <th>pixel778</th>\n",
       "      <th>pixel779</th>\n",
       "      <th>pixel780</th>\n",
       "      <th>pixel781</th>\n",
       "      <th>pixel782</th>\n",
       "      <th>pixel783</th>\n",
       "    </tr>\n",
       "  </thead>\n",
       "  <tbody>\n",
       "    <tr>\n",
       "      <th>0</th>\n",
       "      <td>1</td>\n",
       "      <td>0</td>\n",
       "      <td>0</td>\n",
       "      <td>0</td>\n",
       "      <td>0</td>\n",
       "      <td>0</td>\n",
       "      <td>0</td>\n",
       "      <td>0</td>\n",
       "      <td>0</td>\n",
       "      <td>0</td>\n",
       "      <td>...</td>\n",
       "      <td>0</td>\n",
       "      <td>0</td>\n",
       "      <td>0</td>\n",
       "      <td>0</td>\n",
       "      <td>0</td>\n",
       "      <td>0</td>\n",
       "      <td>0</td>\n",
       "      <td>0</td>\n",
       "      <td>0</td>\n",
       "      <td>0</td>\n",
       "    </tr>\n",
       "    <tr>\n",
       "      <th>1</th>\n",
       "      <td>0</td>\n",
       "      <td>0</td>\n",
       "      <td>0</td>\n",
       "      <td>0</td>\n",
       "      <td>0</td>\n",
       "      <td>0</td>\n",
       "      <td>0</td>\n",
       "      <td>0</td>\n",
       "      <td>0</td>\n",
       "      <td>0</td>\n",
       "      <td>...</td>\n",
       "      <td>0</td>\n",
       "      <td>0</td>\n",
       "      <td>0</td>\n",
       "      <td>0</td>\n",
       "      <td>0</td>\n",
       "      <td>0</td>\n",
       "      <td>0</td>\n",
       "      <td>0</td>\n",
       "      <td>0</td>\n",
       "      <td>0</td>\n",
       "    </tr>\n",
       "    <tr>\n",
       "      <th>2</th>\n",
       "      <td>1</td>\n",
       "      <td>0</td>\n",
       "      <td>0</td>\n",
       "      <td>0</td>\n",
       "      <td>0</td>\n",
       "      <td>0</td>\n",
       "      <td>0</td>\n",
       "      <td>0</td>\n",
       "      <td>0</td>\n",
       "      <td>0</td>\n",
       "      <td>...</td>\n",
       "      <td>0</td>\n",
       "      <td>0</td>\n",
       "      <td>0</td>\n",
       "      <td>0</td>\n",
       "      <td>0</td>\n",
       "      <td>0</td>\n",
       "      <td>0</td>\n",
       "      <td>0</td>\n",
       "      <td>0</td>\n",
       "      <td>0</td>\n",
       "    </tr>\n",
       "    <tr>\n",
       "      <th>3</th>\n",
       "      <td>4</td>\n",
       "      <td>0</td>\n",
       "      <td>0</td>\n",
       "      <td>0</td>\n",
       "      <td>0</td>\n",
       "      <td>0</td>\n",
       "      <td>0</td>\n",
       "      <td>0</td>\n",
       "      <td>0</td>\n",
       "      <td>0</td>\n",
       "      <td>...</td>\n",
       "      <td>0</td>\n",
       "      <td>0</td>\n",
       "      <td>0</td>\n",
       "      <td>0</td>\n",
       "      <td>0</td>\n",
       "      <td>0</td>\n",
       "      <td>0</td>\n",
       "      <td>0</td>\n",
       "      <td>0</td>\n",
       "      <td>0</td>\n",
       "    </tr>\n",
       "    <tr>\n",
       "      <th>4</th>\n",
       "      <td>0</td>\n",
       "      <td>0</td>\n",
       "      <td>0</td>\n",
       "      <td>0</td>\n",
       "      <td>0</td>\n",
       "      <td>0</td>\n",
       "      <td>0</td>\n",
       "      <td>0</td>\n",
       "      <td>0</td>\n",
       "      <td>0</td>\n",
       "      <td>...</td>\n",
       "      <td>0</td>\n",
       "      <td>0</td>\n",
       "      <td>0</td>\n",
       "      <td>0</td>\n",
       "      <td>0</td>\n",
       "      <td>0</td>\n",
       "      <td>0</td>\n",
       "      <td>0</td>\n",
       "      <td>0</td>\n",
       "      <td>0</td>\n",
       "    </tr>\n",
       "  </tbody>\n",
       "</table>\n",
       "<p>5 rows × 785 columns</p>\n",
       "</div>"
      ],
      "text/plain": [
       "   label  pixel0  pixel1  pixel2  pixel3  pixel4  pixel5  pixel6  pixel7  \\\n",
       "0      1       0       0       0       0       0       0       0       0   \n",
       "1      0       0       0       0       0       0       0       0       0   \n",
       "2      1       0       0       0       0       0       0       0       0   \n",
       "3      4       0       0       0       0       0       0       0       0   \n",
       "4      0       0       0       0       0       0       0       0       0   \n",
       "\n",
       "   pixel8    ...     pixel774  pixel775  pixel776  pixel777  pixel778  \\\n",
       "0       0    ...            0         0         0         0         0   \n",
       "1       0    ...            0         0         0         0         0   \n",
       "2       0    ...            0         0         0         0         0   \n",
       "3       0    ...            0         0         0         0         0   \n",
       "4       0    ...            0         0         0         0         0   \n",
       "\n",
       "   pixel779  pixel780  pixel781  pixel782  pixel783  \n",
       "0         0         0         0         0         0  \n",
       "1         0         0         0         0         0  \n",
       "2         0         0         0         0         0  \n",
       "3         0         0         0         0         0  \n",
       "4         0         0         0         0         0  \n",
       "\n",
       "[5 rows x 785 columns]"
      ]
     },
     "execution_count": 2,
     "metadata": {},
     "output_type": "execute_result"
    }
   ],
   "source": [
    "test = pd.read_csv('all/test.csv')\n",
    "train = pd.read_csv('all/train.csv')\n",
    "train.head()"
   ]
  },
  {
   "cell_type": "markdown",
   "metadata": {},
   "source": [
    "(b) Write a function to display an MNIST digit. Display one of each digit"
   ]
  },
  {
   "cell_type": "code",
   "execution_count": 3,
   "metadata": {
    "collapsed": true
   },
   "outputs": [],
   "source": [
    "digit_index_dict ={'zero':1,\n",
    "                   'one':2,\n",
    "                   'two':16,\n",
    "                   'three':7,\n",
    "                   'four':3,\n",
    "                   'five':8,\n",
    "                   'six':21,\n",
    "                   'seven':6,\n",
    "                   'eight':10,\n",
    "                   'nine':11,\n",
    "                   }\n",
    "for digit in digit_index_dict.keys():\n",
    "    i = digit_index_dict[digit]\n",
    "    pixels = train.iloc[i,1:].values\n",
    "    pixels = np.reshape(pixels,(28,28))\n",
    "    img = smp.toimage( pixels )       # Create a PIL image\n",
    "    img.save(\"1b_images/\" + digit + \".jpg\", \"JPEG\")"
   ]
  },
  {
   "cell_type": "markdown",
   "metadata": {},
   "source": [
    "(c) Examine the prior probability of the classes in the training data. Is it uniform across the\n",
    "digits? Display a normalized histogram of digit counts. Is it even?"
   ]
  },
  {
   "cell_type": "code",
   "execution_count": 135,
   "metadata": {},
   "outputs": [
    {
     "data": {
      "text/plain": [
       "1    0.111524\n",
       "7    0.104786\n",
       "3    0.103595\n",
       "9    0.099714\n",
       "2    0.099452\n",
       "6    0.098500\n",
       "0    0.098381\n",
       "4    0.096952\n",
       "8    0.096738\n",
       "5    0.090357\n",
       "Name: label, dtype: float64"
      ]
     },
     "execution_count": 135,
     "metadata": {},
     "output_type": "execute_result"
    }
   ],
   "source": [
    "classes = train['label']\n",
    "classes.value_counts() / len(classes)"
   ]
  },
  {
   "cell_type": "code",
   "execution_count": 164,
   "metadata": {},
   "outputs": [
    {
     "data": {
      "text/plain": [
       "<matplotlib.text.Text at 0x119fa3cd0>"
      ]
     },
     "execution_count": 164,
     "metadata": {},
     "output_type": "execute_result"
    },
    {
     "data": {
      "image/png": "[encoded data removed]",
      "text/plain": [
       "<matplotlib.figure.Figure at 0x117c39590>"
      ]
     },
     "metadata": {},
     "output_type": "display_data"
    }
   ],
   "source": [
    "plt.hist(classes, bins = 10, normed=1)\n",
    "plt.title('Normalized Histogram of Digit Counts')"
   ]
  },
  {
   "cell_type": "markdown",
   "metadata": {},
   "source": [
    "(d) Pick one example of each digit from your training data. Then, for each sample digit, compute\n",
    "and show the best match (nearest neighbor) between your chosen sample and the rest of\n",
    "the training data. Use L2 distance between the two images’ pixel values as the metric. This\n",
    "probably won’t be perfect, so add an asterisk next to the erroneous examples (if any)."
   ]
  },
  {
   "cell_type": "code",
   "execution_count": 5,
   "metadata": {
    "collapsed": true
   },
   "outputs": [],
   "source": [
    "from scipy.spatial.distance import cdist\n",
    "\n",
    "digit_index_dict ={'zero':1,\n",
    "                   'one':2,\n",
    "                   'two':16,\n",
    "                   'three':7,\n",
    "                   'four':3,\n",
    "                   'five':8,\n",
    "                   'six':21,\n",
    "                   'seven':6,\n",
    "                   'eight':10,\n",
    "                   'nine':11,\n",
    "                   }\n",
    "\n",
    "for digit in digit_index_dict.keys():\n",
    "\n",
    "    digit_index = digit_index_dict[digit]\n",
    "\n",
    "    pixels_original = train.iloc[digit_index,1:].values.reshape((1,784))\n",
    "    rest_pixels = train.drop(digit_index).iloc[:,1:]\n",
    "    rest_labels = train.drop(digit_index)['label']\n",
    "\n",
    "    distances = cdist(pixels_original,rest_pixels, 'euclidean')\n",
    "\n",
    "    min_index = np.argmin(distances)\n",
    "    if min_index > digit_index:\n",
    "        min_index +=1\n",
    "\n",
    "\n",
    "\n",
    "    pixels_original = np.reshape(pixels_original,(28,28))\n",
    "    img_original = smp.toimage( pixels_original )       \n",
    "    img_original.save(\"1d_images/\" + digit + \"_\" + str(digit_index) + \".jpg\", \"JPEG\")\n",
    "\n",
    "    pixels_neighbor = np.reshape(train.iloc[min_index,1:].values,(28,28))\n",
    "    img_neighbor = smp.toimage(pixels_neighbor)       \n",
    "    img_neighbor.save(\"1d_images/\" + digit + \"_neighbor_\" + str(min_index) + \".jpg\", \"JPEG\")"
   ]
  },
  {
   "cell_type": "markdown",
   "metadata": {},
   "source": [
    "(e) Consider the case of binary comparison between the digits 0 and 1. Ignoring all the other\n",
    "digits, compute the pairwise distances for all genuine matches and all impostor matches,\n",
    "again using the L2 norm. Plot histograms of the genuine and impostor distances on the same\n",
    "set of axes."
   ]
  },
  {
   "cell_type": "code",
   "execution_count": 6,
   "metadata": {
    "collapsed": true
   },
   "outputs": [],
   "source": [
    "from scipy.spatial.distance import cdist\n",
    "\n",
    "zeros_df = train.loc[train['label'] == 0,:]\n",
    "ones_df = train.loc[train['label'] == 1,:]\n",
    "\n",
    "genuine_zeros = cdist(zeros_df.drop('label', axis = 1), zeros_df.drop('label', axis = 1), 'euclidean')\n",
    "genuine_ones = cdist(ones_df.drop('label', axis = 1), ones_df.drop('label', axis = 1), 'euclidean')\n",
    "imposters = cdist(ones_df.drop('label', axis = 1), zeros_df.drop('label', axis = 1), 'euclidean')\n",
    "\n",
    "gl0 = np.triu(genuine_zeros).reshape(1,genuine_zeros.shape[0]*genuine_zeros.shape[0])\n",
    "gl0 = gl0[gl0 != 0]\n",
    "gl1 = np.triu(genuine_ones).reshape(1,genuine_ones.shape[0]*genuine_ones.shape[0])\n",
    "gl1 = gl1[gl1 != 0]\n",
    "gen_list = np.concatenate((gl0,gl1))\n",
    "imp_list = imposters.reshape(1,imposters.shape[0]*imposters.shape[1])"
   ]
  },
  {
   "cell_type": "code",
   "execution_count": 132,
   "metadata": {},
   "outputs": [
    {
     "data": {
      "image/png": "[encoded data removed]",
      "text/plain": [
       "<matplotlib.figure.Figure at 0x1185a3e50>"
      ]
     },
     "metadata": {},
     "output_type": "display_data"
    }
   ],
   "source": [
    "plt.hist(gen_list.tolist(),bins = 30,label='Genuine Match', alpha = .5)\n",
    "plt.hist(imp_list.tolist(),bins = 30,label='Imposter Match', alpha = .5)\n",
    "plt.legend(loc='upper right', prop={'size': 9})\n",
    "plt.title(\"L2 Distance\")\n",
    "plt.show()"
   ]
  },
  {
   "cell_type": "markdown",
   "metadata": {},
   "source": [
    "(f ) Generate an ROC curve from the above sets of distances. What is the equal error rate? What\n",
    "is the error rate of a classifier that simply guesses randomly?"
   ]
  },
  {
   "cell_type": "code",
   "execution_count": 165,
   "metadata": {},
   "outputs": [
    {
     "name": "stdout",
     "output_type": "stream",
     "text": [
      "0.182203034284\n"
     ]
    },
    {
     "data": {
      "image/png": "[encoded data removed]",
      "text/plain": [
       "<matplotlib.figure.Figure at 0x11978a310>"
      ]
     },
     "metadata": {},
     "output_type": "display_data"
    }
   ],
   "source": [
    "num_genuine = float(gen_list.shape[0])\n",
    "num_imposter = float(imp_list.shape[1])\n",
    "thresholds = np.linspace(np.min(gen_list), np.max(imp_list), 100)\n",
    "true_positive_rates = []\n",
    "false_positive_rates = []\n",
    "for t in thresholds:\n",
    "    true_positive_rates.append(gen_list[gen_list < t].shape[0] / num_genuine)\n",
    "    false_positive_rates.append(imp_list[imp_list < t].shape[0] / num_imposter)\n",
    "\n",
    "plt.plot(false_positive_rates, true_positive_rates)\n",
    "plt.plot(false_positive_rates,-1*np.array(false_positive_rates)+1)\n",
    "eer = np.argwhere(np.diff(np.sign(true_positive_rates - (-1*np.array(false_positive_rates)+1)))).flatten()[0]\n",
    "plt.plot(false_positive_rates[eer], true_positive_rates[eer], 'ro')\n",
    "plt.title('ROC Curve')\n",
    "plt.xlabel('False Positive Rate')\n",
    "plt.ylabel('True Positive Rate')\n",
    "print false_positive_rates[eer]"
   ]
  },
  {
   "cell_type": "markdown",
   "metadata": {
    "collapsed": true
   },
   "source": [
    "(g) Implement a K-NN classifier. (You cannot use external libraries for this question; it should\n",
    "be your own implementation.)"
   ]
  },
  {
   "cell_type": "code",
   "execution_count": 92,
   "metadata": {},
   "outputs": [],
   "source": [
    "def KNN(X_test, X_train, y_train, k = 5):\n",
    "    distances = cdist(X_test,X_train, 'euclidean')\n",
    "    k_min_ids = np.apply_along_axis(np.argpartition, 1, distances,k)\n",
    "    predictions = []\n",
    "    for i in range(0,k_min_ids.shape[0]):\n",
    "        neighbor_ids = k_min_ids[i][0:k]\n",
    "        neighbor_vals = y_train.iloc[neighbor_ids]\n",
    "        predicted_val = neighbor_vals.mode().values[0]\n",
    "        predictions.append(predicted_val)\n",
    "    return predictions"
   ]
  },
  {
   "cell_type": "markdown",
   "metadata": {},
   "source": [
    "(h) Randomly split the training data into two halves. Train your k-NN classifier on the first half\n",
    "of the data, and test it on the second half, reporting your average accuracy."
   ]
  },
  {
   "cell_type": "code",
   "execution_count": 95,
   "metadata": {},
   "outputs": [
    {
     "name": "stdout",
     "output_type": "stream",
     "text": [
      "Avg accuracy: 0.960619047619\n"
     ]
    }
   ],
   "source": [
    "from sklearn.model_selection import train_test_split\n",
    "\n",
    "train_df, test_df = train_test_split(train,test_size = .5, random_state = 5)\n",
    "y_train = train_df['label']\n",
    "X_train = train_df.iloc[:,1:]\n",
    "y_test = test_df['label']\n",
    "X_test = test_df.iloc[:,1:]\n",
    "\n",
    "predicted_vals = KNN(X_test,X_train,y_train, k = 5)\n",
    "print \"Avg accuracy: \" + str((predicted_vals == y_test).mean())\n"
   ]
  },
  {
   "cell_type": "markdown",
   "metadata": {},
   "source": [
    "(i) Generate a confusion matrix (of size 10 × 10) from your results. Which digits are particularly\n",
    "tricky to classify?"
   ]
  },
  {
   "cell_type": "code",
   "execution_count": 119,
   "metadata": {},
   "outputs": [
    {
     "data": {
      "image/png": "[encoded data removed]",
      "text/plain": [
       "<matplotlib.figure.Figure at 0x12c2186d0>"
      ]
     },
     "metadata": {},
     "output_type": "display_data"
    }
   ],
   "source": [
    "from sklearn.metrics import confusion_matrix\n",
    "import seaborn as sns\n",
    "\n",
    "cm_data = confusion_matrix(y_test, predicted_vals, labels=range(0,10), sample_weight=None)\n",
    "ax = sns.heatmap(cm_data, annot=True,fmt=\"d\")"
   ]
  },
  {
   "cell_type": "markdown",
   "metadata": {
    "collapsed": true
   },
   "source": [
    "(j) Train your classifier with all of the training data, and test your classifier with the test data.\n",
    "Submit your results to Kaggle."
   ]
  },
  {
   "cell_type": "code",
   "execution_count": 129,
   "metadata": {},
   "outputs": [],
   "source": [
    "y_train = train['label']\n",
    "X_train = train.iloc[:,1:]\n",
    "X_test = test\n",
    "test_id = test.index + 1\n",
    "kaggle_test_predictions = KNN(X_test,X_train,y_train, k = 5)\n",
    "pred_df = pd.DataFrame({'ImageId':test_id,'Label':kaggle_test_predictions})\n",
    "pred_df.to_csv('hw_q1_submission.csv',index=False)"
   ]
  }
 ],
 "metadata": {
  "kernelspec": {
   "display_name": "Python 2",
   "language": "python",
   "name": "python2"
  },
  "language_info": {
   "codemirror_mode": {
    "name": "ipython",
    "version": 2
   },
   "file_extension": ".py",
   "mimetype": "text/x-python",
   "name": "python",
   "nbconvert_exporter": "python",
   "pygments_lexer": "ipython2",
   "version": "2.7.13"
  }
 },
 "nbformat": 4,
 "nbformat_minor": 2
}
